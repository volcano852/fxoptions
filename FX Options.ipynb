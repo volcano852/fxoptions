{
 "cells": [
  {
   "cell_type": "code",
   "execution_count": null,
   "metadata": {},
   "outputs": [],
   "source": [
    "## FX Conventions ##\n",
    "\n",
    "USDTWD = 28.53\n",
    "# ccy1 foreign currency or base currency \n",
    "# ccy2 domestic currency\n",
    "# ccy1ccy2 = Number of units of ccy2 required to buy ccy1. Number of units of ccy2 per ccy1\n",
    "\n",
    "# GBPUSD = 1.6395\n",
    "# Number of units of USD required to by GBP. Need 1.6395 USD to buy 1 GBP\n",
    "# 1.6395 -> Read: 1 SPOT 6395. USDJPY = 92.00. -> Read : 92 figure \n",
    "# XAUDUSD = 1951.00 -> 1951 USD to buy 1 once of GOLD"
   ]
  },
  {
   "cell_type": "code",
   "execution_count": 96,
   "metadata": {},
   "outputs": [],
   "source": [
    "import numpy as np\n",
    "from scipy.stats import norm\n",
    "import matplotlib.pyplot as plt\n",
    "from IPython.display import display"
   ]
  },
  {
   "cell_type": "code",
   "execution_count": 143,
   "metadata": {},
   "outputs": [
    {
     "data": {
      "text/plain": [
       "0.4837115544712757"
      ]
     },
     "execution_count": 143,
     "metadata": {},
     "output_type": "execute_result"
    },
    {
     "data": {
      "text/plain": [
       "0.48348306070984853"
      ]
     },
     "execution_count": 143,
     "metadata": {},
     "output_type": "execute_result"
    }
   ],
   "source": [
    "def d12(S0,K,rd,rf,sigma,T):\n",
    "    d1 = (math.log(S0/K) + (rd - rf + 0.5*sigma**2) * T)/ (sigma*math.sqrt(T))\n",
    "    d2 = d1 - sigma*math.sqrt(T)\n",
    "    return (d1,d2)\n",
    "\n",
    "def d12_fwd(F0,K,sigma,T):\n",
    "    d1 = (math.log(F0/K) + (0.5*sigma**2) * T)/ (sigma*math.sqrt(T))\n",
    "    d2 = d1 - sigma*math.sqrt(T)\n",
    "    return (d1,d2)\n",
    "\n",
    "# theorical value of european option in basic BSM\n",
    "# option to exchange K units of domestic (ccy2) for 1 unit of foreign (ccy1) expressed in domestic (ccy2)\n",
    "# ccy2/ccy1 price (or domestic pips)\n",
    "def option(S0,K,rd,rf,sigma,T,is_call=True):\n",
    "    (d1,d2) = d12(S0,K,rd,rf,sigma,T)\n",
    "    w = (-1, 1)[is_call]\n",
    "    return w * S0 * math.exp(-rf*T)*norm.cdf(w*d1) - w*K*math.exp(-rd*T)*norm.cdf(w*d2)\n",
    "\n",
    "def option_fwd(F0,K,rd,sigma,T,is_call=True):\n",
    "    (d1,d2) = d12_fwd(F0,K,sigma,T)\n",
    "    w = (-1, 1)[is_call]\n",
    "    return w*math.exp(-rd*T)*(F0*norm.cdf(w*d1)-K*norm.cdf(w*d2))\n",
    "\n",
    "def pips_spot_delta(F0,K,rf,sigma,T,is_call=True):\n",
    "    w = (-1, 1)[is_call]\n",
    "    (d1,_) = d12_fwd(F0,K,sigma,T)\n",
    "    return w * math.exp(-rf*T)*norm.cdf(w*d1)\n",
    "\n",
    "def pips_fwd_delta(F0,K,sigma,T,is_call=True):\n",
    "    w = (-1, 1)[is_call]\n",
    "    (d1,_) = d12_fwd(F0,K,sigma,T)\n",
    "    return w *norm.cdf(w*d1)\n",
    "\n",
    "\n",
    "\n",
    "# Quotes https://www.investing.com/currencies/eur-usd-options\n",
    "\n",
    "\n",
    "EURUSD = 1.1880\n",
    "fwd_1m = 7.615 / 10_000 \n",
    "EURUSD_1m = EURUSD + fwd_1m\n",
    "K = 1.19\n",
    "notional = 1_000_000\n",
    "\n",
    "eur_r = -0.57486 / 100\n",
    "usd_r = 0.14463 / 100\n",
    "\n",
    "# Vd/f\n",
    "usd_pips = option(EURUSD,K=K,rd=usd_r,rf = eur_r,sigma=0.0705,T=30/365,is_call=True)\n",
    "usd_pips_fwd = option_fwd(EURUSD_1m,K=K,rd=usd_r, sigma=0.0705,T=30/365,is_call=True)\n",
    "\n",
    "usd_pips_market = 0.00908 # premium in USD to buy EUR at 1.19 in 1 months  \n",
    "eur_pips = usd_pips / (EURUSD*K) # Vf/d = Vd/f / (spot*K)\n",
    "eur_perc = usd_pips_market / EURUSD # V%f = Vd/f / spot\n",
    "usd_perc = usd_pips_market / K # V%f = Vd/f / spot\n",
    "\n",
    "# Number of units of foreign currency we need to hold in order to hedge option \n",
    "# with notional of 1 foreign currency and K domestic currency\n",
    "usd_pips_spot_delta = pips_spot_delta(EURUSD_1m,K=K,rf=eur_r, sigma=0.0705,T=30/365,is_call=True)\n",
    "usd_pips_fwd_delta = pips_fwd_delta(EURUSD_1m,K=K, sigma=0.0705,T=30/365,is_call=True)\n",
    "\n",
    "# usd_pips\n",
    "# usd_pips_fwd\n",
    "# usd_pips_market\n",
    "# eur_pips\n",
    "usd_pips_spot_delta\n",
    "usd_pips_fwd_delta"
   ]
  },
  {
   "cell_type": "code",
   "execution_count": 90,
   "metadata": {},
   "outputs": [
    {
     "data": {
      "text/plain": [
       "0.006324189748032172"
      ]
     },
     "execution_count": 90,
     "metadata": {},
     "output_type": "execute_result"
    }
   ],
   "source": [
    "USDEUR = 1 / EURUSD\n",
    "eur_pips = option(USDEUR,K=1/1.19,rf=usd_r,rd = eur_r,sigma=0.0704,T=30/365,is_call=False)\n",
    "eur_pips"
   ]
  },
  {
   "cell_type": "code",
   "execution_count": 165,
   "metadata": {},
   "outputs": [
    {
     "data": {
      "text/plain": [
       "-4.440892098500626e-16"
      ]
     },
     "execution_count": 165,
     "metadata": {},
     "output_type": "execute_result"
    },
    {
     "data": {
      "text/plain": [
       "1.544902905771743"
      ]
     },
     "execution_count": 165,
     "metadata": {},
     "output_type": "execute_result"
    },
    {
     "data": {
      "text/plain": [
       "1.2050195077199684"
      ]
     },
     "execution_count": 165,
     "metadata": {},
     "output_type": "execute_result"
    }
   ],
   "source": [
    "import pandas as pd\n",
    "eurusd_df = pd.DataFrame([['1M',0.21,0.0065,0.02433,-0.002,-0.01258],\n",
    "                         ['2M',0.21,0.0075,0.0283,-0.0025,-0.01297],\n",
    "                         ['3M',0.2075,0.0085,0.03228,-0.003,-0.01332],\n",
    "                         ['6M',0.194,0.009,0.03485,-0.005,-0.01408],\n",
    "                         ['1Y',0.1825,0.0095,0.03806,-0.006,-0.01359],\n",
    "                         ['2Y',0.17677,0.0085,0.03208,-0.00562,-0.01208]], columns = ['Tenor', 'ATMVol','25dMS','10dMS','25dRR','10dRR'])\n",
    "\n",
    "def ATM_DNS_pips(F0,sigma,T):\n",
    "    return F0*math.exp(0.5*sigma**2*T)\n",
    "\n",
    "def ATM_DNS_perc(F0,sigma,T):\n",
    "    return F0*math.exp(-0.5*sigma**2*T)\n",
    "\n",
    "def delta_to_strike(F0,delta,rf,sigma,T,is_call=True):\n",
    "    w = (-1, 1)[is_call]\n",
    "    return F0*math.exp(-w*norm.ppf(w*math.exp(rf*T)*delta)*sigma*math.sqrt(T)+0.5*sigma**2*T)\n",
    "\n",
    "ATM_DNS_pips = ATM_DNS_pips(EURUSD_1m,0.0705,30/365)\n",
    "# pips_spot_delta of the straddle at ATM_DNS_pips is indeed 0\n",
    "DNS_delta = pips_spot_delta(EURUSD_1m,ATM_DNS_pips,eur_r,0.0705,30/365,is_call=True) + pips_spot_delta(EURUSD_1m,ATM_DNS_pips,eur_r,0.0705,30/365,is_call=False)\n",
    "DNS_delta # should be 0\n",
    "# ATM Vol + 25d market strangle premium in vol points\n",
    "K_call_25 = delta_to_strike(1.3395,0.25,0.0346,0.1920,1,is_call=True)\n",
    "K_put_25 = delta_to_strike(1.3395,-0.25,0.0346,0.1920,1,is_call=False)\n",
    "K_call_25\n",
    "K_put_25\n",
    "\n"
   ]
  },
  {
   "cell_type": "code",
   "execution_count": 19,
   "metadata": {},
   "outputs": [
    {
     "data": {
      "text/plain": [
       "[<matplotlib.lines.Line2D at 0x1137db3d0>]"
      ]
     },
     "execution_count": 19,
     "metadata": {},
     "output_type": "execute_result"
    },
    {
     "data": {
      "image/png": "[encoded data removed]",
      "text/plain": [
       "<Figure size 432x288 with 1 Axes>"
      ]
     },
     "metadata": {
      "needs_background": "light"
     },
     "output_type": "display_data"
    }
   ],
   "source": [
    "def f(x,T,co,c1,c2):\n",
    "    return 1\n",
    "\n",
    "x = np.arange(0,10,0.01)\n",
    "F0 = 1\n",
    "# y = np.sin(x)\n",
    "c0 = 1\n",
    "c1 = 1\n",
    "c2 = 1\n",
    "y = np.exp(x)\n",
    "plt.plot(x,y)"
   ]
  },
  {
   "cell_type": "code",
   "execution_count": 10,
   "metadata": {},
   "outputs": [
    {
     "data": {
      "text/plain": [
       "array([0.        , 0.00999983, 0.01999867, 0.0299955 , 0.03998933,\n",
       "       0.04997917, 0.05996401, 0.06994285, 0.07991469, 0.08987855,\n",
       "       0.09983342, 0.1097783 , 0.11971221, 0.12963414, 0.13954311,\n",
       "       0.14943813, 0.15931821, 0.16918235, 0.17902957, 0.18885889,\n",
       "       0.19866933, 0.2084599 , 0.21822962, 0.22797752, 0.23770263,\n",
       "       0.24740396, 0.25708055, 0.26673144, 0.27635565, 0.28595223,\n",
       "       0.29552021, 0.30505864, 0.31456656, 0.32404303, 0.33348709,\n",
       "       0.34289781, 0.35227423, 0.36161543, 0.37092047, 0.38018842,\n",
       "       0.38941834, 0.39860933, 0.40776045, 0.4168708 , 0.42593947,\n",
       "       0.43496553, 0.44394811, 0.45288629, 0.46177918, 0.47062589,\n",
       "       0.47942554, 0.48817725, 0.49688014, 0.50553334, 0.51413599,\n",
       "       0.52268723, 0.5311862 , 0.53963205, 0.54802394, 0.55636102,\n",
       "       0.56464247, 0.57286746, 0.58103516, 0.58914476, 0.59719544,\n",
       "       0.60518641, 0.61311685, 0.62098599, 0.62879302, 0.63653718,\n",
       "       0.64421769, 0.65183377, 0.65938467, 0.66686964, 0.67428791,\n",
       "       0.68163876, 0.68892145, 0.69613524, 0.70327942, 0.71035327,\n",
       "       0.71735609, 0.72428717, 0.73114583, 0.73793137, 0.74464312,\n",
       "       0.75128041, 0.75784256, 0.76432894, 0.77073888, 0.77707175,\n",
       "       0.78332691, 0.78950374, 0.79560162, 0.80161994, 0.8075581 ,\n",
       "       0.8134155 , 0.81919157, 0.82488571, 0.83049737, 0.83602598])"
      ]
     },
     "execution_count": 10,
     "metadata": {},
     "output_type": "execute_result"
    }
   ],
   "source": [
    "y"
   ]
  },
  {
   "cell_type": "code",
   "execution_count": null,
   "metadata": {},
   "outputs": [],
   "source": [
    "plot(x,y)"
   ]
  }
 ],
 "metadata": {
  "kernelspec": {
   "display_name": "Python 3",
   "language": "python",
   "name": "python3"
  },
  "language_info": {
   "codemirror_mode": {
    "name": "ipython",
    "version": 3
   },
   "file_extension": ".py",
   "mimetype": "text/x-python",
   "name": "python",
   "nbconvert_exporter": "python",
   "pygments_lexer": "ipython3",
   "version": "3.7.6"
  }
 },
 "nbformat": 4,
 "nbformat_minor": 4
}
