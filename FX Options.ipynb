{
 "cells": [
  {
   "cell_type": "code",
   "execution_count": 184,
   "metadata": {},
   "outputs": [],
   "source": [
    "## FX Conventions ##\n",
    "\n",
    "USDTWD = 28.53\n",
    "# ccy1 foreign currency or base currency \n",
    "# ccy2 domestic currency\n",
    "# ccy1ccy2 = Number of units of ccy2 required to buy ccy1. Number of units of ccy2 per ccy1\n",
    "\n",
    "# GBPUSD = 1.6395\n",
    "# Number of units of USD required to by GBP. Need 1.6395 USD to buy 1 GBP\n",
    "# 1.6395 -> Read: 1 SPOT 6395. USDJPY = 92.00. -> Read : 92 figure \n",
    "# XAUDUSD = 1951.00 -> 1951 USD to buy 1 once of GOLD"
   ]
  },
  {
   "cell_type": "code",
   "execution_count": 185,
   "metadata": {},
   "outputs": [],
   "source": [
    "import numpy as np\n",
    "from scipy.stats import norm\n",
    "import matplotlib.pyplot as plt\n",
    "from IPython.display import display\n",
    "import pandas as pd"
   ]
  },
  {
   "cell_type": "code",
   "execution_count": 186,
   "metadata": {},
   "outputs": [
    {
     "data": {
      "text/plain": [
       "0.4837115544712757"
      ]
     },
     "execution_count": 186,
     "metadata": {},
     "output_type": "execute_result"
    },
    {
     "data": {
      "text/plain": [
       "0.48348306070984853"
      ]
     },
     "execution_count": 186,
     "metadata": {},
     "output_type": "execute_result"
    }
   ],
   "source": [
    "def d12(S0,K,rd,rf,sigma,T):\n",
    "    d1 = (math.log(S0/K) + (rd - rf + 0.5*sigma**2) * T)/ (sigma*math.sqrt(T))\n",
    "    d2 = d1 - sigma*math.sqrt(T)\n",
    "    return (d1,d2)\n",
    "\n",
    "def d12_fwd(F0,K,sigma,T):\n",
    "    d1 = (math.log(F0/K) + (0.5*sigma**2) * T)/ (sigma*math.sqrt(T))\n",
    "    d2 = d1 - sigma*math.sqrt(T)\n",
    "    return (d1,d2)\n",
    "\n",
    "# theorical value of european option in basic BSM\n",
    "# option to exchange K units of domestic (ccy2) for 1 unit of foreign (ccy1) expressed in domestic (ccy2)\n",
    "# ccy2/ccy1 price (or domestic pips)\n",
    "def option(S0,K,rd,rf,sigma,T,is_call=True):\n",
    "    (d1,d2) = d12(S0,K,rd,rf,sigma,T)\n",
    "    w = (-1, 1)[is_call]\n",
    "    return w * S0 * math.exp(-rf*T)*norm.cdf(w*d1) - w*K*math.exp(-rd*T)*norm.cdf(w*d2)\n",
    "\n",
    "def option_fwd(F0,K,rd,sigma,T,is_call=True):\n",
    "    (d1,d2) = d12_fwd(F0,K,sigma,T)\n",
    "    w = (-1, 1)[is_call]\n",
    "    return w*math.exp(-rd*T)*(F0*norm.cdf(w*d1)-K*norm.cdf(w*d2))\n",
    "\n",
    "def pips_spot_delta(F0,K,rf,sigma,T,is_call=True):\n",
    "    w = (-1, 1)[is_call]\n",
    "    (d1,_) = d12_fwd(F0,K,sigma,T)\n",
    "    return w * math.exp(-rf*T)*norm.cdf(w*d1)\n",
    "\n",
    "def pips_fwd_delta(F0,K,sigma,T,is_call=True):\n",
    "    w = (-1, 1)[is_call]\n",
    "    (d1,_) = d12_fwd(F0,K,sigma,T)\n",
    "    return w *norm.cdf(w*d1)\n",
    "\n",
    "\n",
    "\n",
    "# Quotes https://www.investing.com/currencies/eur-usd-options\n",
    "\n",
    "\n",
    "EURUSD = 1.1880\n",
    "fwd_1m = 7.615 / 10_000 \n",
    "EURUSD_1m = EURUSD + fwd_1m\n",
    "K = 1.19\n",
    "notional = 1_000_000\n",
    "\n",
    "eur_r = -0.57486 / 100\n",
    "usd_r = 0.14463 / 100\n",
    "\n",
    "# Vd/f\n",
    "usd_pips = option(EURUSD,K=K,rd=usd_r,rf = eur_r,sigma=0.0705,T=30/365,is_call=True)\n",
    "usd_pips_fwd = option_fwd(EURUSD_1m,K=K,rd=usd_r, sigma=0.0705,T=30/365,is_call=True)\n",
    "\n",
    "usd_pips_market = 0.00908 # premium in USD to buy EUR at 1.19 in 1 months  \n",
    "eur_pips = usd_pips / (EURUSD*K) # Vf/d = Vd/f / (spot*K)\n",
    "eur_perc = usd_pips_market / EURUSD # V%f = Vd/f / spot\n",
    "usd_perc = usd_pips_market / K # V%f = Vd/f / spot\n",
    "\n",
    "# Number of units of foreign currency we need to hold in order to hedge option \n",
    "# with notional of 1 foreign currency and K domestic currency\n",
    "usd_pips_spot_delta = pips_spot_delta(EURUSD_1m,K=K,rf=eur_r, sigma=0.0705,T=30/365,is_call=True)\n",
    "usd_pips_fwd_delta = pips_fwd_delta(EURUSD_1m,K=K, sigma=0.0705,T=30/365,is_call=True)\n",
    "\n",
    "# usd_pips\n",
    "# usd_pips_fwd\n",
    "# usd_pips_market\n",
    "# eur_pips\n",
    "usd_pips_spot_delta\n",
    "usd_pips_fwd_delta"
   ]
  },
  {
   "cell_type": "code",
   "execution_count": 187,
   "metadata": {},
   "outputs": [
    {
     "data": {
      "text/plain": [
       "0.006324189748032172"
      ]
     },
     "execution_count": 187,
     "metadata": {},
     "output_type": "execute_result"
    }
   ],
   "source": [
    "USDEUR = 1 / EURUSD\n",
    "eur_pips = option(USDEUR,K=1/1.19,rf=usd_r,rd = eur_r,sigma=0.0704,T=30/365,is_call=False)\n",
    "eur_pips"
   ]
  },
  {
   "cell_type": "code",
   "execution_count": 188,
   "metadata": {},
   "outputs": [
    {
     "data": {
      "text/plain": [
       "-4.440892098500626e-16"
      ]
     },
     "execution_count": 188,
     "metadata": {},
     "output_type": "execute_result"
    },
    {
     "data": {
      "text/plain": [
       "1.544902905771743"
      ]
     },
     "execution_count": 188,
     "metadata": {},
     "output_type": "execute_result"
    },
    {
     "data": {
      "text/plain": [
       "1.2050195077199684"
      ]
     },
     "execution_count": 188,
     "metadata": {},
     "output_type": "execute_result"
    }
   ],
   "source": [
    "eurusd_df = pd.DataFrame([['1M',0.21,0.0065,0.02433,-0.002,-0.01258],\n",
    "                         ['2M',0.21,0.0075,0.0283,-0.0025,-0.01297],\n",
    "                         ['3M',0.2075,0.0085,0.03228,-0.003,-0.01332],\n",
    "                         ['6M',0.194,0.009,0.03485,-0.005,-0.01408],\n",
    "                         ['1Y',0.1825,0.0095,0.03806,-0.006,-0.01359],\n",
    "                         ['2Y',0.17677,0.0085,0.03208,-0.00562,-0.01208]], columns = ['Tenor', 'ATMVol','25dMS','10dMS','25dRR','10dRR'])\n",
    "\n",
    "def ATM_DNS_pips(F0,sigma,T):\n",
    "    return F0*math.exp(0.5*sigma**2*T)\n",
    "\n",
    "def ATM_DNS_perc(F0,sigma,T):\n",
    "    return F0*math.exp(-0.5*sigma**2*T)\n",
    "\n",
    "def delta_to_strike(F0,delta,rf,sigma,T,is_call=True):\n",
    "    w = (-1, 1)[is_call]\n",
    "    return F0*math.exp(-w*norm.ppf(w*math.exp(rf*T)*delta)*sigma*math.sqrt(T)+0.5*sigma**2*T)\n",
    "\n",
    "ATM_DNS_pips = ATM_DNS_pips(EURUSD_1m,0.0705,30/365)\n",
    "# pips_spot_delta of the straddle at ATM_DNS_pips is indeed 0\n",
    "DNS_delta = pips_spot_delta(EURUSD_1m,ATM_DNS_pips,eur_r,0.0705,30/365,is_call=True) + pips_spot_delta(EURUSD_1m,ATM_DNS_pips,eur_r,0.0705,30/365,is_call=False)\n",
    "DNS_delta # should be 0\n",
    "# ATM Vol + 25d market strangle premium in vol points\n",
    "K_call_25 = delta_to_strike(1.3395,0.25,0.0346,0.1920,1,is_call=True)\n",
    "K_put_25 = delta_to_strike(1.3395,-0.25,0.0346,0.1920,1,is_call=False)\n",
    "K_call_25\n",
    "K_put_25\n",
    "\n"
   ]
  },
  {
   "cell_type": "code",
   "execution_count": 220,
   "metadata": {},
   "outputs": [],
   "source": [
    "def IV_SABR(K,F0,T,alpha,vov,rho,beta=1):\n",
    "    \n",
    "    def z(F0,K,alpha,beta,vov):\n",
    "        z = vov/alpha\n",
    "        z = z* (F0*K)**((1-beta) / 2)\n",
    "        z = z * math.log(F0/K)\n",
    "        return z\n",
    "    \n",
    "    def chi(z,rho):\n",
    "        return math.log((math.sqrt(1-2*rho*z+z**2) + z - rho) / (1-rho))\n",
    "    \n",
    "    A = (F0*K)**((1-beta)/2)\n",
    "    \n",
    "    B1 = ((1-beta)**2)/24\n",
    "    B1 = B1 * math.log(F0/K)**2\n",
    "    B2 = ((1-beta)**4)/1920\n",
    "    B2 = B2 * math.log(F0/K)**4\n",
    "\n",
    "    B = 1 + B1 + B2\n",
    "    \n",
    "    z = z(F0,K,alpha,beta,vov)\n",
    "    C = z / chi(z,rho)\n",
    "\n",
    "    D1 = (1-beta**2)/24\n",
    "    D1 = D1 * (alpha**2 / (F0*K)**(1-beta))\n",
    "    D2 = 0.25*rho*beta*vov*alpha / ((F0*K)**((1-beta)/2))\n",
    "    D3 = ((2-3*rho**2)/24)*vov**2\n",
    "    D = 1 + (D1+D2+D3)*T\n",
    "    return (alpha / (A*B))*C*D"
   ]
  },
  {
   "cell_type": "code",
   "execution_count": 229,
   "metadata": {},
   "outputs": [
    {
     "data": {
      "text/plain": [
       "[<matplotlib.lines.Line2D at 0x1a1899a410>]"
      ]
     },
     "execution_count": 229,
     "metadata": {},
     "output_type": "execute_result"
    },
    {
     "data": {
      "text/plain": [
       "19.49"
      ]
     },
     "execution_count": 229,
     "metadata": {},
     "output_type": "execute_result"
    },
    {
     "data": {
      "text/plain": [
       "19.47"
      ]
     },
     "execution_count": 229,
     "metadata": {},
     "output_type": "execute_result"
    },
    {
     "data": {
      "text/plain": [
       "18.25"
      ]
     },
     "execution_count": 229,
     "metadata": {},
     "output_type": "execute_result"
    },
    {
     "data": {
      "text/plain": [
       "18.89"
      ]
     },
     "execution_count": 229,
     "metadata": {},
     "output_type": "execute_result"
    },
    {
     "data": {
      "text/plain": [
       "18.93"
      ]
     },
     "execution_count": 229,
     "metadata": {},
     "output_type": "execute_result"
    },
    {
     "data": {
      "image/png": "[encoded data removed]",
      "text/plain": [
       "<Figure size 432x288 with 1 Axes>"
      ]
     },
     "metadata": {
      "needs_background": "light"
     },
     "output_type": "display_data"
    }
   ],
   "source": [
    "alpha = 0.17431060\n",
    "vov=0.81694072\n",
    "rho=-0.11268306\n",
    "\n",
    "spot = 1.3465\n",
    "F0 = 1.3395\n",
    "spot_range=np.arange(1.2,1.6,0.01)\n",
    "vIV_SABR= np.vectorize(IV_SABR)\n",
    "IV_range = vIV_SABR(spot_range,F0,1,alpha,vov,rho)\n",
    "plt.plot(spot_range,IV_range)\n",
    "round(100*IV_SABR(1.2034,F0,1,alpha,vov,rho),2)\n",
    "round(100*IV_SABR(1.2050,F0,1,alpha,vov,rho),2)\n",
    "round(100*IV_SABR(1.3620,F0,1,alpha,vov,rho),2)\n",
    "round(100*IV_SABR(1.541,F0,1,alpha,vov,rho),2)\n",
    "round(100*IV_SABR(1.5449,F0,1,alpha,vov,rho),2)"
   ]
  },
  {
   "cell_type": "code",
   "execution_count": 228,
   "metadata": {},
   "outputs": [
    {
     "data": {
      "text/plain": [
       "17.81"
      ]
     },
     "execution_count": 228,
     "metadata": {},
     "output_type": "execute_result"
    }
   ],
   "source": [
    "# inputs\n",
    "F0 = 1.3395\n",
    "T = 1\n",
    "vol_ATM = 0.1825\n",
    "vol_25d_MS = 0.0095\n",
    "rf = 0.0346\n",
    "rd = 0.0294\n",
    "\n",
    "### Smile strangle from Market strangle\n",
    "\n",
    "# 1. Decide on parametric form (here SABR)\n",
    "\n",
    "# 2. Determine KATM by using either ATMF or ATM DNS depending on market convention\n",
    "K_ATM = ATM_DNS_pips(F0,vol_ATM,T)\n",
    "\n",
    "# 3. Use Vol ATM and vol Vol 25d MS to determine K 25d P MS and K 25d C MS\n",
    "# ATM Vol + 25d market strangle premium in vol points\n",
    "K_call_25 = delta_to_strike(F0,0.25,0.0346,vol_ATM + vol_25d_MS,T,is_call=True)\n",
    "K_put_25 = delta_to_strike(F0,-0.25,0.0346,vol_ATM + vol_25d_MS,T,is_call=False)\n",
    "\n",
    "# 4. Determine Price 25d MS\n",
    "price_25d_MS = option_fwd(F0,K=K_call_25,rd=rd, sigma=vol_ATM + vol_25d_MS,T=T,is_call=True) + option_fwd(F0,K=K_call_25,rd=rd, sigma=vol_ATM + vol_25d_MS,T=T,is_call=False)\n",
    "\n",
    "# 5. Choose an initial guess for vol 25d Smile Strangle , such as vol 25d SS = vol 25d MS"
   ]
  },
  {
   "cell_type": "code",
   "execution_count": 179,
   "metadata": {},
   "outputs": [
    {
     "data": {
      "text/plain": [
       "[<matplotlib.lines.Line2D at 0x1a17a5ce10>]"
      ]
     },
     "execution_count": 179,
     "metadata": {},
     "output_type": "execute_result"
    },
    {
     "data": {
      "image/png": "[encoded data removed]",
      "text/plain": [
       "<Figure size 432x288 with 1 Axes>"
      ]
     },
     "metadata": {
      "needs_background": "light"
     },
     "output_type": "display_data"
    }
   ],
   "source": [
    "def f(x,T,co,c1,c2):\n",
    "    return 1\n",
    "\n",
    "x = np.arange(0,10,0.01)\n",
    "F0 = 1\n",
    "# y = np.sin(x)\n",
    "c0 = 1\n",
    "c1 = 1\n",
    "c2 = 1\n",
    "y = np.exp(x)\n",
    "plt.plot(x,y)"
   ]
  },
  {
   "cell_type": "code",
   "execution_count": 180,
   "metadata": {},
   "outputs": [
    {
     "data": {
      "text/plain": [
       "array([1.00000000e+00, 1.01005017e+00, 1.02020134e+00, 1.03045453e+00,\n",
       "       1.04081077e+00, 1.05127110e+00, 1.06183655e+00, 1.07250818e+00,\n",
       "       1.08328707e+00, 1.09417428e+00, 1.10517092e+00, 1.11627807e+00,\n",
       "       1.12749685e+00, 1.13882838e+00, 1.15027380e+00, 1.16183424e+00,\n",
       "       1.17351087e+00, 1.18530485e+00, 1.19721736e+00, 1.20924960e+00,\n",
       "       1.22140276e+00, 1.23367806e+00, 1.24607673e+00, 1.25860001e+00,\n",
       "       1.27124915e+00, 1.28402542e+00, 1.29693009e+00, 1.30996445e+00,\n",
       "       1.32312981e+00, 1.33642749e+00, 1.34985881e+00, 1.36342511e+00,\n",
       "       1.37712776e+00, 1.39096813e+00, 1.40494759e+00, 1.41906755e+00,\n",
       "       1.43332941e+00, 1.44773461e+00, 1.46228459e+00, 1.47698079e+00,\n",
       "       1.49182470e+00, 1.50681779e+00, 1.52196156e+00, 1.53725752e+00,\n",
       "       1.55270722e+00, 1.56831219e+00, 1.58407398e+00, 1.59999419e+00,\n",
       "       1.61607440e+00, 1.63231622e+00, 1.64872127e+00, 1.66529119e+00,\n",
       "       1.68202765e+00, 1.69893231e+00, 1.71600686e+00, 1.73325302e+00,\n",
       "       1.75067250e+00, 1.76826705e+00, 1.78603843e+00, 1.80398842e+00,\n",
       "       1.82211880e+00, 1.84043140e+00, 1.85892804e+00, 1.87761058e+00,\n",
       "       1.89648088e+00, 1.91554083e+00, 1.93479233e+00, 1.95423732e+00,\n",
       "       1.97387773e+00, 1.99371553e+00, 2.01375271e+00, 2.03399126e+00,\n",
       "       2.05443321e+00, 2.07508061e+00, 2.09593551e+00, 2.11700002e+00,\n",
       "       2.13827622e+00, 2.15976625e+00, 2.18147227e+00, 2.20339643e+00,\n",
       "       2.22554093e+00, 2.24790799e+00, 2.27049984e+00, 2.29331874e+00,\n",
       "       2.31636698e+00, 2.33964685e+00, 2.36316069e+00, 2.38691085e+00,\n",
       "       2.41089971e+00, 2.43512965e+00, 2.45960311e+00, 2.48432253e+00,\n",
       "       2.50929039e+00, 2.53450918e+00, 2.55998142e+00, 2.58570966e+00,\n",
       "       2.61169647e+00, 2.63794446e+00, 2.66445624e+00, 2.69123447e+00,\n",
       "       2.71828183e+00, 2.74560102e+00, 2.77319476e+00, 2.80106583e+00,\n",
       "       2.82921701e+00, 2.85765112e+00, 2.88637099e+00, 2.91537950e+00,\n",
       "       2.94467955e+00, 2.97427407e+00, 3.00416602e+00, 3.03435839e+00,\n",
       "       3.06485420e+00, 3.09565650e+00, 3.12676837e+00, 3.15819291e+00,\n",
       "       3.18993328e+00, 3.22199264e+00, 3.25437420e+00, 3.28708121e+00,\n",
       "       3.32011692e+00, 3.35348465e+00, 3.38718773e+00, 3.42122954e+00,\n",
       "       3.45561346e+00, 3.49034296e+00, 3.52542149e+00, 3.56085256e+00,\n",
       "       3.59663973e+00, 3.63278656e+00, 3.66929667e+00, 3.70617371e+00,\n",
       "       3.74342138e+00, 3.78104339e+00, 3.81904351e+00, 3.85742553e+00,\n",
       "       3.89619330e+00, 3.93535070e+00, 3.97490163e+00, 4.01485005e+00,\n",
       "       4.05519997e+00, 4.09595540e+00, 4.13712044e+00, 4.17869919e+00,\n",
       "       4.22069582e+00, 4.26311452e+00, 4.30595953e+00, 4.34923514e+00,\n",
       "       4.39294568e+00, 4.43709552e+00, 4.48168907e+00, 4.52673079e+00,\n",
       "       4.57222520e+00, 4.61817682e+00, 4.66459027e+00, 4.71147018e+00,\n",
       "       4.75882125e+00, 4.80664819e+00, 4.85495581e+00, 4.90374893e+00,\n",
       "       4.95303242e+00, 5.00281123e+00, 5.05309032e+00, 5.10387472e+00,\n",
       "       5.15516951e+00, 5.20697983e+00, 5.25931084e+00, 5.31216780e+00,\n",
       "       5.36555597e+00, 5.41948071e+00, 5.47394739e+00, 5.52896148e+00,\n",
       "       5.58452846e+00, 5.64065391e+00, 5.69734342e+00, 5.75460268e+00,\n",
       "       5.81243739e+00, 5.87085336e+00, 5.92985642e+00, 5.98945247e+00,\n",
       "       6.04964746e+00, 6.11044743e+00, 6.17185845e+00, 6.23388666e+00,\n",
       "       6.29653826e+00, 6.35981952e+00, 6.42373677e+00, 6.48829640e+00,\n",
       "       6.55350486e+00, 6.61936868e+00, 6.68589444e+00, 6.75308880e+00,\n",
       "       6.82095847e+00, 6.88951024e+00, 6.95875097e+00, 7.02868758e+00,\n",
       "       7.09932707e+00, 7.17067649e+00, 7.24274299e+00, 7.31553376e+00,\n",
       "       7.38905610e+00, 7.46331735e+00, 7.53832493e+00, 7.61408636e+00,\n",
       "       7.69060920e+00, 7.76790111e+00, 7.84596981e+00, 7.92482312e+00,\n",
       "       8.00446891e+00, 8.08491516e+00, 8.16616991e+00, 8.24824128e+00,\n",
       "       8.33113749e+00, 8.41486681e+00, 8.49943763e+00, 8.58485840e+00,\n",
       "       8.67113766e+00, 8.75828404e+00, 8.84630626e+00, 8.93521311e+00,\n",
       "       9.02501350e+00, 9.11571639e+00, 9.20733087e+00, 9.29986608e+00,\n",
       "       9.39333129e+00, 9.48773584e+00, 9.58308917e+00, 9.67940081e+00,\n",
       "       9.77668041e+00, 9.87493768e+00, 9.97418245e+00, 1.00744247e+01,\n",
       "       1.01756743e+01, 1.02779415e+01, 1.03812366e+01, 1.04855697e+01,\n",
       "       1.05909515e+01, 1.06973923e+01, 1.08049029e+01, 1.09134939e+01,\n",
       "       1.10231764e+01, 1.11339611e+01, 1.12458593e+01, 1.13588821e+01,\n",
       "       1.14730407e+01, 1.15883467e+01, 1.17048115e+01, 1.18224469e+01,\n",
       "       1.19412644e+01, 1.20612761e+01, 1.21824940e+01, 1.23049301e+01,\n",
       "       1.24285967e+01, 1.25535061e+01, 1.26796710e+01, 1.28071038e+01,\n",
       "       1.29358173e+01, 1.30658244e+01, 1.31971382e+01, 1.33297716e+01,\n",
       "       1.34637380e+01, 1.35990509e+01, 1.37357236e+01, 1.38737699e+01,\n",
       "       1.40132036e+01, 1.41540386e+01, 1.42962891e+01, 1.44399692e+01,\n",
       "       1.45850933e+01, 1.47316759e+01, 1.48797317e+01, 1.50292755e+01,\n",
       "       1.51803222e+01, 1.53328870e+01, 1.54869851e+01, 1.56426319e+01,\n",
       "       1.57998429e+01, 1.59586340e+01, 1.61190209e+01, 1.62810198e+01,\n",
       "       1.64446468e+01, 1.66099182e+01, 1.67768507e+01, 1.69454608e+01,\n",
       "       1.71157655e+01, 1.72877818e+01, 1.74615269e+01, 1.76370182e+01,\n",
       "       1.78142732e+01, 1.79933096e+01, 1.81741454e+01, 1.83567986e+01,\n",
       "       1.85412875e+01, 1.87276305e+01, 1.89158463e+01, 1.91059537e+01,\n",
       "       1.92979718e+01, 1.94919196e+01, 1.96878166e+01, 1.98856825e+01,\n",
       "       2.00855369e+01, 2.02873999e+01, 2.04912917e+01, 2.06972326e+01,\n",
       "       2.09052432e+01, 2.11153444e+01, 2.13275572e+01, 2.15419027e+01,\n",
       "       2.17584024e+01, 2.19770780e+01, 2.21979513e+01, 2.24210444e+01,\n",
       "       2.26463796e+01, 2.28739795e+01, 2.31038669e+01, 2.33360646e+01,\n",
       "       2.35705959e+01, 2.38074844e+01, 2.40467536e+01, 2.42884274e+01,\n",
       "       2.45325302e+01, 2.47790862e+01, 2.50281202e+01, 2.52796570e+01,\n",
       "       2.55337217e+01, 2.57903399e+01, 2.60495371e+01, 2.63113393e+01,\n",
       "       2.65757727e+01, 2.68428637e+01, 2.71126389e+01, 2.73851255e+01,\n",
       "       2.76603506e+01, 2.79383417e+01, 2.82191267e+01, 2.85027336e+01,\n",
       "       2.87891909e+01, 2.90785271e+01, 2.93707711e+01, 2.96659523e+01,\n",
       "       2.99641000e+01, 3.02652443e+01, 3.05694150e+01, 3.08766427e+01,\n",
       "       3.11869582e+01, 3.15003923e+01, 3.18169765e+01, 3.21367424e+01,\n",
       "       3.24597221e+01, 3.27859477e+01, 3.31154520e+01, 3.34482678e+01,\n",
       "       3.37844285e+01, 3.41239676e+01, 3.44669192e+01, 3.48133175e+01,\n",
       "       3.51631971e+01, 3.55165932e+01, 3.58735408e+01, 3.62340759e+01,\n",
       "       3.65982344e+01, 3.69660528e+01, 3.73375678e+01, 3.77128166e+01,\n",
       "       3.80918367e+01, 3.84746660e+01, 3.88613429e+01, 3.92519059e+01,\n",
       "       3.96463941e+01, 4.00448470e+01, 4.04473044e+01, 4.08538065e+01,\n",
       "       4.12643941e+01, 4.16791082e+01, 4.20979902e+01, 4.25210820e+01,\n",
       "       4.29484260e+01, 4.33800648e+01, 4.38160417e+01, 4.42564003e+01,\n",
       "       4.47011845e+01, 4.51504389e+01, 4.56042083e+01, 4.60625382e+01,\n",
       "       4.65254744e+01, 4.69930632e+01, 4.74653514e+01, 4.79423861e+01,\n",
       "       4.84242151e+01, 4.89108865e+01, 4.94024491e+01, 4.98989520e+01,\n",
       "       5.04004448e+01, 5.09069777e+01, 5.14186013e+01, 5.19353668e+01,\n",
       "       5.24573259e+01, 5.29845308e+01, 5.35170342e+01, 5.40548894e+01,\n",
       "       5.45981500e+01, 5.51468706e+01, 5.57011058e+01, 5.62609112e+01,\n",
       "       5.68263428e+01, 5.73974570e+01, 5.79743111e+01, 5.85569626e+01,\n",
       "       5.91454698e+01, 5.97398917e+01, 6.03402876e+01, 6.09467176e+01,\n",
       "       6.15592423e+01, 6.21779229e+01, 6.28028214e+01, 6.34340003e+01,\n",
       "       6.40715226e+01, 6.47154521e+01, 6.53658532e+01, 6.60227910e+01,\n",
       "       6.66863310e+01, 6.73565398e+01, 6.80334843e+01, 6.87172322e+01,\n",
       "       6.94078518e+01, 7.01054123e+01, 7.08099835e+01, 7.15216356e+01,\n",
       "       7.22404400e+01, 7.29664685e+01, 7.36997937e+01, 7.44404889e+01,\n",
       "       7.51886283e+01, 7.59442866e+01, 7.67075393e+01, 7.74784629e+01,\n",
       "       7.82571344e+01, 7.90436317e+01, 7.98380334e+01, 8.06404190e+01,\n",
       "       8.14508687e+01, 8.22694635e+01, 8.30962854e+01, 8.39314169e+01,\n",
       "       8.47749417e+01, 8.56269440e+01, 8.64875091e+01, 8.73567230e+01,\n",
       "       8.82346727e+01, 8.91214459e+01, 9.00171313e+01, 9.09218185e+01,\n",
       "       9.18355980e+01, 9.27585611e+01, 9.36908001e+01, 9.46324083e+01,\n",
       "       9.55834798e+01, 9.65441098e+01, 9.75143942e+01, 9.84944302e+01,\n",
       "       9.94843156e+01, 1.00484150e+02, 1.01494032e+02, 1.02514064e+02,\n",
       "       1.03544348e+02, 1.04584986e+02, 1.05636082e+02, 1.06697742e+02,\n",
       "       1.07770073e+02, 1.08853180e+02, 1.09947172e+02, 1.11052160e+02,\n",
       "       1.12168253e+02, 1.13295562e+02, 1.14434202e+02, 1.15584285e+02,\n",
       "       1.16745926e+02, 1.17919242e+02, 1.19104350e+02, 1.20301369e+02,\n",
       "       1.21510418e+02, 1.22731618e+02, 1.23965091e+02, 1.25210961e+02,\n",
       "       1.26469352e+02, 1.27740390e+02, 1.29024202e+02, 1.30320917e+02,\n",
       "       1.31630664e+02, 1.32953574e+02, 1.34289780e+02, 1.35639414e+02,\n",
       "       1.37002613e+02, 1.38379512e+02, 1.39770250e+02, 1.41174964e+02,\n",
       "       1.42593796e+02, 1.44026887e+02, 1.45474382e+02, 1.46936423e+02,\n",
       "       1.48413159e+02, 1.49904736e+02, 1.51411304e+02, 1.52933013e+02,\n",
       "       1.54470015e+02, 1.56022464e+02, 1.57590516e+02, 1.59174327e+02,\n",
       "       1.60774056e+02, 1.62389862e+02, 1.64021907e+02, 1.65670355e+02,\n",
       "       1.67335370e+02, 1.69017118e+02, 1.70715768e+02, 1.72431490e+02,\n",
       "       1.74164456e+02, 1.75914837e+02, 1.77682811e+02, 1.79468553e+02,\n",
       "       1.81272242e+02, 1.83094058e+02, 1.84934184e+02, 1.86792804e+02,\n",
       "       1.88670102e+02, 1.90566268e+02, 1.92481491e+02, 1.94415962e+02,\n",
       "       1.96369875e+02, 1.98343425e+02, 2.00336810e+02, 2.02350228e+02,\n",
       "       2.04383882e+02, 2.06437974e+02, 2.08512710e+02, 2.10608298e+02,\n",
       "       2.12724946e+02, 2.14862868e+02, 2.17022275e+02, 2.19203386e+02,\n",
       "       2.21406416e+02, 2.23631588e+02, 2.25879123e+02, 2.28149245e+02,\n",
       "       2.30442183e+02, 2.32758166e+02, 2.35097424e+02, 2.37460193e+02,\n",
       "       2.39846707e+02, 2.42257207e+02, 2.44691932e+02, 2.47151127e+02,\n",
       "       2.49635037e+02, 2.52143911e+02, 2.54677999e+02, 2.57237556e+02,\n",
       "       2.59822836e+02, 2.62434099e+02, 2.65071606e+02, 2.67735620e+02,\n",
       "       2.70426407e+02, 2.73144238e+02, 2.75889383e+02, 2.78662118e+02,\n",
       "       2.81462718e+02, 2.84291466e+02, 2.87148643e+02, 2.90034534e+02,\n",
       "       2.92949430e+02, 2.95893621e+02, 2.98867401e+02, 3.01871068e+02,\n",
       "       3.04904923e+02, 3.07969268e+02, 3.11064411e+02, 3.14190660e+02,\n",
       "       3.17348329e+02, 3.20537733e+02, 3.23759190e+02, 3.27013024e+02,\n",
       "       3.30299560e+02, 3.33619126e+02, 3.36972054e+02, 3.40358679e+02,\n",
       "       3.43779341e+02, 3.47234380e+02, 3.50724144e+02, 3.54248980e+02,\n",
       "       3.57809242e+02, 3.61405284e+02, 3.65037468e+02, 3.68706155e+02,\n",
       "       3.72411714e+02, 3.76154514e+02, 3.79934930e+02, 3.83753339e+02,\n",
       "       3.87610124e+02, 3.91505671e+02, 3.95440368e+02, 3.99414610e+02,\n",
       "       4.03428793e+02, 4.07483320e+02, 4.11578596e+02, 4.15715029e+02,\n",
       "       4.19893035e+02, 4.24113030e+02, 4.28375437e+02, 4.32680682e+02,\n",
       "       4.37029195e+02, 4.41421411e+02, 4.45857770e+02, 4.50338715e+02,\n",
       "       4.54864694e+02, 4.59436161e+02, 4.64053571e+02, 4.68717387e+02,\n",
       "       4.73428075e+02, 4.78186106e+02, 4.82991956e+02, 4.87846106e+02,\n",
       "       4.92749041e+02, 4.97701251e+02, 5.02703232e+02, 5.07755483e+02,\n",
       "       5.12858511e+02, 5.18012825e+02, 5.23218940e+02, 5.28477378e+02,\n",
       "       5.33788664e+02, 5.39153329e+02, 5.44571910e+02, 5.50044949e+02,\n",
       "       5.55572992e+02, 5.61156594e+02, 5.66796311e+02, 5.72492709e+02,\n",
       "       5.78246356e+02, 5.84057829e+02, 5.89927708e+02, 5.95856580e+02,\n",
       "       6.01845038e+02, 6.07893681e+02, 6.14003114e+02, 6.20173948e+02,\n",
       "       6.26406800e+02, 6.32702293e+02, 6.39061057e+02, 6.45483727e+02,\n",
       "       6.51970946e+02, 6.58523363e+02, 6.65141633e+02, 6.71826418e+02,\n",
       "       6.78578385e+02, 6.85398211e+02, 6.92286578e+02, 6.99244174e+02,\n",
       "       7.06271695e+02, 7.13369843e+02, 7.20539329e+02, 7.27780870e+02,\n",
       "       7.35095189e+02, 7.42483019e+02, 7.49945097e+02, 7.57482171e+02,\n",
       "       7.65094993e+02, 7.72784326e+02, 7.80550937e+02, 7.88395604e+02,\n",
       "       7.96319112e+02, 8.04322252e+02, 8.12405825e+02, 8.20570639e+02,\n",
       "       8.28817511e+02, 8.37147266e+02, 8.45560736e+02, 8.54058763e+02,\n",
       "       8.62642196e+02, 8.71311894e+02, 8.80068724e+02, 8.88913562e+02,\n",
       "       8.97847292e+02, 9.06870807e+02, 9.15985010e+02, 9.25190812e+02,\n",
       "       9.34489135e+02, 9.43880907e+02, 9.53367067e+02, 9.62948566e+02,\n",
       "       9.72626360e+02, 9.82401417e+02, 9.92274716e+02, 1.00224724e+03,\n",
       "       1.01231999e+03, 1.02249398e+03, 1.03277021e+03, 1.04314973e+03,\n",
       "       1.05363356e+03, 1.06422275e+03, 1.07491837e+03, 1.08572148e+03,\n",
       "       1.09663316e+03, 1.10765450e+03, 1.11878662e+03, 1.13003061e+03,\n",
       "       1.14138761e+03, 1.15285874e+03, 1.16444517e+03, 1.17614803e+03,\n",
       "       1.18796852e+03, 1.19990780e+03, 1.21196707e+03, 1.22414755e+03,\n",
       "       1.23645043e+03, 1.24887697e+03, 1.26142839e+03, 1.27410596e+03,\n",
       "       1.28691093e+03, 1.29984460e+03, 1.31290826e+03, 1.32610321e+03,\n",
       "       1.33943076e+03, 1.35289227e+03, 1.36648906e+03, 1.38022250e+03,\n",
       "       1.39409397e+03, 1.40810485e+03, 1.42225654e+03, 1.43655045e+03,\n",
       "       1.45098803e+03, 1.46557070e+03, 1.48029993e+03, 1.49517719e+03,\n",
       "       1.51020397e+03, 1.52538177e+03, 1.54071211e+03, 1.55619653e+03,\n",
       "       1.57183656e+03, 1.58763378e+03, 1.60358977e+03, 1.61970611e+03,\n",
       "       1.63598443e+03, 1.65242635e+03, 1.66903351e+03, 1.68580757e+03,\n",
       "       1.70275022e+03, 1.71986315e+03, 1.73714806e+03, 1.75460669e+03,\n",
       "       1.77224078e+03, 1.79005209e+03, 1.80804241e+03, 1.82621354e+03,\n",
       "       1.84456729e+03, 1.86310550e+03, 1.88183003e+03, 1.90074273e+03,\n",
       "       1.91984551e+03, 1.93914028e+03, 1.95862897e+03, 1.97831351e+03,\n",
       "       1.99819590e+03, 2.01827810e+03, 2.03856213e+03, 2.05905002e+03,\n",
       "       2.07974382e+03, 2.10064559e+03, 2.12175743e+03, 2.14308145e+03,\n",
       "       2.16461977e+03, 2.18637456e+03, 2.20834799e+03, 2.23054226e+03,\n",
       "       2.25295958e+03, 2.27560220e+03, 2.29847238e+03, 2.32157241e+03,\n",
       "       2.34490461e+03, 2.36847129e+03, 2.39227482e+03, 2.41631758e+03,\n",
       "       2.44060198e+03, 2.46513044e+03, 2.48990541e+03, 2.51492937e+03,\n",
       "       2.54020483e+03, 2.56573432e+03, 2.59152038e+03, 2.61756559e+03,\n",
       "       2.64387256e+03, 2.67044392e+03, 2.69728233e+03, 2.72439047e+03,\n",
       "       2.75177105e+03, 2.77942680e+03, 2.80736051e+03, 2.83557495e+03,\n",
       "       2.86407295e+03, 2.89285736e+03, 2.92193106e+03, 2.95129696e+03,\n",
       "       2.98095799e+03, 3.01091711e+03, 3.04117733e+03, 3.07174167e+03,\n",
       "       3.10261319e+03, 3.13379497e+03, 3.16529013e+03, 3.19710183e+03,\n",
       "       3.22923324e+03, 3.26168757e+03, 3.29446808e+03, 3.32757803e+03,\n",
       "       3.36102075e+03, 3.39479957e+03, 3.42891787e+03, 3.46337907e+03,\n",
       "       3.49818660e+03, 3.53334396e+03, 3.56885466e+03, 3.60472225e+03,\n",
       "       3.64095031e+03, 3.67754247e+03, 3.71450238e+03, 3.75183375e+03,\n",
       "       3.78954031e+03, 3.82762582e+03, 3.86609410e+03, 3.90494899e+03,\n",
       "       3.94419438e+03, 3.98383419e+03, 4.02387239e+03, 4.06431298e+03,\n",
       "       4.10516001e+03, 4.14641755e+03, 4.18808974e+03, 4.23018074e+03,\n",
       "       4.27269477e+03, 4.31563606e+03, 4.35900893e+03, 4.40281769e+03,\n",
       "       4.44706675e+03, 4.49176051e+03, 4.53690346e+03, 4.58250009e+03,\n",
       "       4.62855498e+03, 4.67507274e+03, 4.72205800e+03, 4.76951547e+03,\n",
       "       4.81744990e+03, 4.86586607e+03, 4.91476884e+03, 4.96416309e+03,\n",
       "       5.01405376e+03, 5.06444583e+03, 5.11534436e+03, 5.16675443e+03,\n",
       "       5.21868117e+03, 5.27112979e+03, 5.32410553e+03, 5.37761368e+03,\n",
       "       5.43165959e+03, 5.48624868e+03, 5.54138639e+03, 5.59707825e+03,\n",
       "       5.65332982e+03, 5.71014673e+03, 5.76753466e+03, 5.82549935e+03,\n",
       "       5.88404659e+03, 5.94318224e+03, 6.00291222e+03, 6.06324249e+03,\n",
       "       6.12417909e+03, 6.18572811e+03, 6.24789571e+03, 6.31068811e+03,\n",
       "       6.37411158e+03, 6.43817246e+03, 6.50287717e+03, 6.56823218e+03,\n",
       "       6.63424401e+03, 6.70091927e+03, 6.76826463e+03, 6.83628682e+03,\n",
       "       6.90499264e+03, 6.97438897e+03, 7.04448274e+03, 7.11528097e+03,\n",
       "       7.18679074e+03, 7.25901918e+03, 7.33197354e+03, 7.40566110e+03,\n",
       "       7.48008923e+03, 7.55526538e+03, 7.63119706e+03, 7.70789186e+03,\n",
       "       7.78535746e+03, 7.86360161e+03, 7.94263212e+03, 8.02245690e+03,\n",
       "       8.10308393e+03, 8.18452127e+03, 8.26677708e+03, 8.34985957e+03,\n",
       "       8.43377706e+03, 8.51853792e+03, 8.60415065e+03, 8.69062381e+03,\n",
       "       8.77796603e+03, 8.86618605e+03, 8.95529270e+03, 9.04529489e+03,\n",
       "       9.13620162e+03, 9.22802197e+03, 9.32076513e+03, 9.41444038e+03,\n",
       "       9.50905708e+03, 9.60462469e+03, 9.70115277e+03, 9.79865098e+03,\n",
       "       9.89712906e+03, 9.99659686e+03, 1.00970643e+04, 1.01985415e+04,\n",
       "       1.03010386e+04, 1.04045657e+04, 1.05091333e+04, 1.06147519e+04,\n",
       "       1.07214319e+04, 1.08291841e+04, 1.09380192e+04, 1.10479481e+04,\n",
       "       1.11589819e+04, 1.12711315e+04, 1.13844082e+04, 1.14988234e+04,\n",
       "       1.16143885e+04, 1.17311151e+04, 1.18490148e+04, 1.19680993e+04,\n",
       "       1.20883807e+04, 1.22098710e+04, 1.23325822e+04, 1.24565267e+04,\n",
       "       1.25817169e+04, 1.27081653e+04, 1.28358844e+04, 1.29648872e+04,\n",
       "       1.30951865e+04, 1.32267953e+04, 1.33597268e+04, 1.34939943e+04,\n",
       "       1.36296112e+04, 1.37665911e+04, 1.39049476e+04, 1.40446947e+04,\n",
       "       1.41858462e+04, 1.43284163e+04, 1.44724193e+04, 1.46178695e+04,\n",
       "       1.47647816e+04, 1.49131701e+04, 1.50630499e+04, 1.52144361e+04,\n",
       "       1.53673437e+04, 1.55217881e+04, 1.56777847e+04, 1.58353490e+04,\n",
       "       1.59944969e+04, 1.61552443e+04, 1.63176072e+04, 1.64816019e+04,\n",
       "       1.66472447e+04, 1.68145523e+04, 1.69835414e+04, 1.71542288e+04,\n",
       "       1.73266317e+04, 1.75007672e+04, 1.76766529e+04, 1.78543062e+04,\n",
       "       1.80337449e+04, 1.82149871e+04, 1.83980507e+04, 1.85829542e+04,\n",
       "       1.87697160e+04, 1.89583548e+04, 1.91488894e+04, 1.93413390e+04,\n",
       "       1.95357227e+04, 1.97320599e+04, 1.99303704e+04, 2.01306740e+04,\n",
       "       2.03329906e+04, 2.05373406e+04, 2.07437443e+04, 2.09522224e+04,\n",
       "       2.11627957e+04, 2.13754854e+04, 2.15903125e+04, 2.18072988e+04])"
      ]
     },
     "execution_count": 180,
     "metadata": {},
     "output_type": "execute_result"
    }
   ],
   "source": [
    "y"
   ]
  },
  {
   "cell_type": "code",
   "execution_count": 181,
   "metadata": {},
   "outputs": [
    {
     "ename": "NameError",
     "evalue": "name 'plot' is not defined",
     "output_type": "error",
     "traceback": [
      "\u001b[0;31m---------------------------------------------------------------------------\u001b[0m",
      "\u001b[0;31mNameError\u001b[0m                                 Traceback (most recent call last)",
      "\u001b[0;32m<ipython-input-181-da844fa99866>\u001b[0m in \u001b[0;36m<module>\u001b[0;34m\u001b[0m\n\u001b[0;32m----> 1\u001b[0;31m \u001b[0mplot\u001b[0m\u001b[0;34m(\u001b[0m\u001b[0mx\u001b[0m\u001b[0;34m,\u001b[0m\u001b[0my\u001b[0m\u001b[0;34m)\u001b[0m\u001b[0;34m\u001b[0m\u001b[0;34m\u001b[0m\u001b[0m\n\u001b[0m",
      "\u001b[0;31mNameError\u001b[0m: name 'plot' is not defined"
     ]
    }
   ],
   "source": [
    "plot(x,y)"
   ]
  }
 ],
 "metadata": {
  "kernelspec": {
   "display_name": "Python 3",
   "language": "python",
   "name": "python3"
  },
  "language_info": {
   "codemirror_mode": {
    "name": "ipython",
    "version": 3
   },
   "file_extension": ".py",
   "mimetype": "text/x-python",
   "name": "python",
   "nbconvert_exporter": "python",
   "pygments_lexer": "ipython3",
   "version": "3.7.6"
  }
 },
 "nbformat": 4,
 "nbformat_minor": 4
}
